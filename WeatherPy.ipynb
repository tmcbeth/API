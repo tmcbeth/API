{
 "cells": [
  {
   "cell_type": "markdown",
   "metadata": {},
   "source": [
    "# WeatherPy\n",
    "----\n",
    "\n",
    "### Analysis\n",
    "* As expected, the weather becomes significantly warmer as one approaches the equator (0 Deg. Latitude). More interestingly, however, is the fact that the southern hemisphere tends to be warmer this time of year than the northern hemisphere. This may be due to the tilt of the earth.\n",
    "* There is no strong relationship between latitude and cloudiness. However, it is interesting to see that a strong band of cities sits at 0, 80, and 100% cloudiness.\n",
    "* There is no strong relationship between latitude and wind speed. However, in northern hemispheres there is a flurry of cities with over 20 mph of wind.\n",
    "\n",
    "---\n",
    "\n",
    "#### Note\n",
    "* Instructions have been included for each segment. You do not have to follow them exactly, but they are included to help you think through the steps."
   ]
  },
  {
   "cell_type": "code",
   "execution_count": 4,
   "metadata": {
    "scrolled": true
   },
   "outputs": [],
   "source": [
    "# Dependencies and Setup\n",
    "import matplotlib.pyplot as plt\n",
    "import pandas as pd\n",
    "import numpy as np\n",
    "import requests\n",
    "import time\n",
    "from pprint import pprint\n",
    "import json\n",
    "\n",
    "\n",
    "# Import API key\n",
    "from api_keys import api_key\n",
    "from api_keys import darksky_api\n",
    "from api_keys import gkey\n",
    "\n",
    "# Incorporated citipy to determine city based on latitude and longitude\n",
    "from citipy import citipy\n",
    "\n",
    "# Output File (CSV)\n",
    "output_data_file = \"output_data/cities.csv\"\n",
    "\n",
    "# Range of latitudes and longitudes\n",
    "lat_range = (-90, 90)\n",
    "lng_range = (-180, 180)"
   ]
  },
  {
   "cell_type": "markdown",
   "metadata": {},
   "source": [
    "## Generate Cities List"
   ]
  },
  {
   "cell_type": "code",
   "execution_count": 5,
   "metadata": {},
   "outputs": [
    {
     "data": {
      "text/plain": [
       "626"
      ]
     },
     "execution_count": 5,
     "metadata": {},
     "output_type": "execute_result"
    }
   ],
   "source": [
    "# List for holding lat_lngs and cities\n",
    "lat_lngs = []\n",
    "cities = []\n",
    "\n",
    "# Create a set of random lat and lng combinations\n",
    "lats = np.random.uniform(low=-90.000, high=90.000, size=1500)\n",
    "lngs = np.random.uniform(low=-180.000, high=180.000, size=1500)\n",
    "lat_lngs = zip(lats, lngs)\n",
    "\n",
    "# Identify nearest city for each lat, lng combination\n",
    "for lat_lng in lat_lngs:\n",
    "    city = citipy.nearest_city(lat_lng[0], lat_lng[1]).city_name\n",
    "    \n",
    "    # If the city is unique, then add it to a our cities list\n",
    "    if city not in cities:\n",
    "        cities.append(city)\n",
    "\n",
    "# Print the city count to confirm sufficient count\n",
    "len(cities)\n"
   ]
  },
  {
   "cell_type": "code",
   "execution_count": 6,
   "metadata": {},
   "outputs": [
    {
     "data": {
      "text/plain": [
       "626"
      ]
     },
     "execution_count": 6,
     "metadata": {},
     "output_type": "execute_result"
    }
   ],
   "source": [
    "len(cities)"
   ]
  },
  {
   "cell_type": "code",
   "execution_count": 7,
   "metadata": {},
   "outputs": [
    {
     "data": {
      "text/html": [
       "<div>\n",
       "<style scoped>\n",
       "    .dataframe tbody tr th:only-of-type {\n",
       "        vertical-align: middle;\n",
       "    }\n",
       "\n",
       "    .dataframe tbody tr th {\n",
       "        vertical-align: top;\n",
       "    }\n",
       "\n",
       "    .dataframe thead th {\n",
       "        text-align: right;\n",
       "    }\n",
       "</style>\n",
       "<table border=\"1\" class=\"dataframe\">\n",
       "  <thead>\n",
       "    <tr style=\"text-align: right;\">\n",
       "      <th></th>\n",
       "      <th>City</th>\n",
       "    </tr>\n",
       "  </thead>\n",
       "  <tbody>\n",
       "    <tr>\n",
       "      <th>0</th>\n",
       "      <td>ewa beach</td>\n",
       "    </tr>\n",
       "    <tr>\n",
       "      <th>1</th>\n",
       "      <td>dikson</td>\n",
       "    </tr>\n",
       "    <tr>\n",
       "      <th>2</th>\n",
       "      <td>samusu</td>\n",
       "    </tr>\n",
       "    <tr>\n",
       "      <th>3</th>\n",
       "      <td>busselton</td>\n",
       "    </tr>\n",
       "    <tr>\n",
       "      <th>4</th>\n",
       "      <td>hilo</td>\n",
       "    </tr>\n",
       "  </tbody>\n",
       "</table>\n",
       "</div>"
      ],
      "text/plain": [
       "        City\n",
       "0  ewa beach\n",
       "1     dikson\n",
       "2     samusu\n",
       "3  busselton\n",
       "4       hilo"
      ]
     },
     "execution_count": 7,
     "metadata": {},
     "output_type": "execute_result"
    }
   ],
   "source": [
    "cities_df=pd.DataFrame(cities)\n",
    "cities_df2=cities_df.rename(columns={0:\"City\"})\n",
    "cities_df2.head()\n"
   ]
  },
  {
   "cell_type": "code",
   "execution_count": 8,
   "metadata": {},
   "outputs": [],
   "source": [
    "#Convert cities to Lat & Lon\n",
    "\n",
    "#latitude=[]\n",
    "#longitude=[]\n",
    "#city_list=[]\n",
    "\n",
    "#for city in cities:\n",
    "\n",
    " #   try:\n",
    "        \n",
    "  #      target_url = ('https://maps.googleapis.com/maps/api/geocode/json?'\n",
    "   #     'address={0}&key={1}').format(city, gkey)\n",
    "\n",
    "    #    geo_data=requests.get(target_url).json()\n",
    "\n",
    "     #   latitude.append(geo_data[\"results\"][0][\"geometry\"][\"location\"][\"lat\"])\n",
    "      #  longitude.append(geo_data[\"results\"][0][\"geometry\"][\"location\"][\"lng\"])\n",
    "       # city_list.append(city)\n",
    "    #except:\n",
    "     #   pass\n",
    "#cities_df3 = pd.DataFrame({\"City\":city_list,\"Latitude\":latitude,\"Longitude\":longitude})\n",
    "#cities_df3.head()\n"
   ]
  },
  {
   "cell_type": "code",
   "execution_count": 9,
   "metadata": {},
   "outputs": [],
   "source": [
    "#len(cities_df3)"
   ]
  },
  {
   "cell_type": "code",
   "execution_count": 10,
   "metadata": {},
   "outputs": [],
   "source": [
    "# Darkskys api request: https://api.darksky.net/forecast/[key]/[latitude],[longitude]\n",
    "#dark_url = \"https://api.darksky.net/forecast/\"\n",
    "\n",
    "#response=requests.get(dark_url+darksky_api+\"/12.876497,11.031582\").json()\n",
    "#response"
   ]
  },
  {
   "cell_type": "code",
   "execution_count": 11,
   "metadata": {},
   "outputs": [
    {
     "name": "stdout",
     "output_type": "stream",
     "text": [
      "{'coord': {'lon': -73.99, 'lat': 40.73}, 'weather': [{'id': 800, 'main': 'Clear', 'description': 'clear sky', 'icon': '01n'}], 'base': 'stations', 'main': {'temp': 63.37, 'pressure': 1011, 'humidity': 78, 'temp_min': 57.92, 'temp_max': 68}, 'visibility': 16093, 'wind': {'speed': 9.75, 'deg': 203.501}, 'clouds': {'all': 1}, 'dt': 1541112960, 'sys': {'type': 1, 'id': 2121, 'message': 0.0047, 'country': 'US', 'sunrise': 1541071645, 'sunset': 1541109061}, 'id': 5128581, 'name': 'New York', 'cod': 200}\n"
     ]
    }
   ],
   "source": [
    "# Build partial query URL\n",
    "url = \"http://api.openweathermap.org/data/2.5/weather?q=\"\n",
    "units = \"&units=imperial\"\n",
    "\n",
    "# Build partial query URL\n",
    "\n",
    "query_url = f\"&appid={api_key}\"\n",
    "\n",
    "test_city=\"New York\"\n",
    "\n",
    "response=requests.get(url + test_city + units + query_url).json()\n",
    "print(response)"
   ]
  },
  {
   "cell_type": "code",
   "execution_count": 12,
   "metadata": {},
   "outputs": [
    {
     "data": {
      "text/plain": [
       "558"
      ]
     },
     "execution_count": 12,
     "metadata": {},
     "output_type": "execute_result"
    }
   ],
   "source": [
    "\n",
    "\n",
    "url = \"http://api.openweathermap.org/data/2.5/weather?q=\"\n",
    "units = \"&units=imperial\"\n",
    "\n",
    "# Build partial query URL\n",
    "\n",
    "query_url = f\"&appid={api_key}\"\n",
    "#api.openweathermap.org/data/2.5/weather?q={city name}\n",
    "# set up lists to hold reponse info\n",
    "\n",
    "name = []\n",
    "cloudiness = []\n",
    "country = []\n",
    "date = []\n",
    "humidity = []\n",
    "lat = []\n",
    "lng = []\n",
    "temp = []\n",
    "wind =[]\n",
    "\n",
    "#city=\"New York\"\n",
    "#response = requests.get(url + city + query_url).json()\n",
    "\n",
    "# Loop through the list of cities and perform a request for data on each\n",
    "\n",
    "for city in cities:\n",
    "    \n",
    "    try:\n",
    "        response = requests.get(url + city + units + query_url).json()\n",
    "        wind.append(response['wind']['deg'])\n",
    "        name.append(response[\"name\"])\n",
    "        cloudiness.append(response[\"clouds\"][\"all\"])\n",
    "        country.append(response[\"sys\"][\"country\"])\n",
    "        date.append(response['dt'])\n",
    "        humidity.append(response['main']['humidity'])\n",
    "        lat.append(response['coord']['lat'])\n",
    "        lng.append(response['coord']['lon'])\n",
    "        temp.append(response['main']['temp_max'])\n",
    "        \n",
    "        \n",
    "    except:\n",
    "        pass\n",
    "    \n",
    "len(date)\n"
   ]
  },
  {
   "cell_type": "code",
   "execution_count": 13,
   "metadata": {},
   "outputs": [
    {
     "name": "stdout",
     "output_type": "stream",
     "text": [
      "558\n",
      "558\n",
      "558\n",
      "558\n",
      "558\n",
      "558\n",
      "558\n",
      "558\n",
      "558\n"
     ]
    }
   ],
   "source": [
    "print(len(name))\n",
    "print(len(cloudiness))\n",
    "print(len(country))\n",
    "print(len(date))\n",
    "print(len(humidity))\n",
    "print(len(lat))\n",
    "print(len(lng))\n",
    "print(len(temp))\n",
    "print(len(wind))\n"
   ]
  },
  {
   "cell_type": "code",
   "execution_count": 14,
   "metadata": {},
   "outputs": [
    {
     "data": {
      "text/html": [
       "<div>\n",
       "<style scoped>\n",
       "    .dataframe tbody tr th:only-of-type {\n",
       "        vertical-align: middle;\n",
       "    }\n",
       "\n",
       "    .dataframe tbody tr th {\n",
       "        vertical-align: top;\n",
       "    }\n",
       "\n",
       "    .dataframe thead th {\n",
       "        text-align: right;\n",
       "    }\n",
       "</style>\n",
       "<table border=\"1\" class=\"dataframe\">\n",
       "  <thead>\n",
       "    <tr style=\"text-align: right;\">\n",
       "      <th></th>\n",
       "      <th>City</th>\n",
       "      <th>Cloudiness</th>\n",
       "      <th>Country</th>\n",
       "      <th>Date</th>\n",
       "      <th>Humidity</th>\n",
       "      <th>Lat</th>\n",
       "      <th>Lng</th>\n",
       "      <th>Max Temp</th>\n",
       "      <th>Wind Speed</th>\n",
       "    </tr>\n",
       "  </thead>\n",
       "  <tbody>\n",
       "    <tr>\n",
       "      <th>0</th>\n",
       "      <td>Ewa Beach</td>\n",
       "      <td>90</td>\n",
       "      <td>US</td>\n",
       "      <td>1541113620</td>\n",
       "      <td>88</td>\n",
       "      <td>21.32</td>\n",
       "      <td>-158.01</td>\n",
       "      <td>84.92</td>\n",
       "      <td>50.000</td>\n",
       "    </tr>\n",
       "    <tr>\n",
       "      <th>1</th>\n",
       "      <td>Dikson</td>\n",
       "      <td>80</td>\n",
       "      <td>RU</td>\n",
       "      <td>1541114795</td>\n",
       "      <td>100</td>\n",
       "      <td>73.51</td>\n",
       "      <td>80.55</td>\n",
       "      <td>18.30</td>\n",
       "      <td>226.001</td>\n",
       "    </tr>\n",
       "    <tr>\n",
       "      <th>2</th>\n",
       "      <td>Busselton</td>\n",
       "      <td>68</td>\n",
       "      <td>AU</td>\n",
       "      <td>1541114796</td>\n",
       "      <td>100</td>\n",
       "      <td>-33.64</td>\n",
       "      <td>115.35</td>\n",
       "      <td>61.41</td>\n",
       "      <td>233.501</td>\n",
       "    </tr>\n",
       "    <tr>\n",
       "      <th>3</th>\n",
       "      <td>Hilo</td>\n",
       "      <td>75</td>\n",
       "      <td>US</td>\n",
       "      <td>1541112960</td>\n",
       "      <td>69</td>\n",
       "      <td>19.71</td>\n",
       "      <td>-155.08</td>\n",
       "      <td>80.96</td>\n",
       "      <td>90.000</td>\n",
       "    </tr>\n",
       "    <tr>\n",
       "      <th>4</th>\n",
       "      <td>Rikitea</td>\n",
       "      <td>100</td>\n",
       "      <td>PF</td>\n",
       "      <td>1541114796</td>\n",
       "      <td>100</td>\n",
       "      <td>-23.12</td>\n",
       "      <td>-134.97</td>\n",
       "      <td>69.51</td>\n",
       "      <td>119.001</td>\n",
       "    </tr>\n",
       "  </tbody>\n",
       "</table>\n",
       "</div>"
      ],
      "text/plain": [
       "        City  Cloudiness Country        Date  Humidity    Lat     Lng  \\\n",
       "0  Ewa Beach          90      US  1541113620        88  21.32 -158.01   \n",
       "1     Dikson          80      RU  1541114795       100  73.51   80.55   \n",
       "2  Busselton          68      AU  1541114796       100 -33.64  115.35   \n",
       "3       Hilo          75      US  1541112960        69  19.71 -155.08   \n",
       "4    Rikitea         100      PF  1541114796       100 -23.12 -134.97   \n",
       "\n",
       "   Max Temp  Wind Speed  \n",
       "0     84.92      50.000  \n",
       "1     18.30     226.001  \n",
       "2     61.41     233.501  \n",
       "3     80.96      90.000  \n",
       "4     69.51     119.001  "
      ]
     },
     "execution_count": 14,
     "metadata": {},
     "output_type": "execute_result"
    }
   ],
   "source": [
    "# create a data frame from cities, lat, and temp\n",
    "weather_dict = {\n",
    "    \"City\": name,\n",
    "    \"Cloudiness\": cloudiness,\n",
    "    \"Country\": country,\n",
    "    \"Date\": date,\n",
    "    \"Humidity\":humidity,\n",
    "    \"Lat\": lat,\n",
    "    \"Lng\":lng,\n",
    "    \"Max Temp\": temp,\n",
    "    \"Wind Speed\":wind\n",
    "}\n",
    "weather_data = pd.DataFrame(weather_dict)\n",
    "weather_data.head()"
   ]
  },
  {
   "cell_type": "markdown",
   "metadata": {},
   "source": [
    "### Perform API Calls\n",
    "* Perform a weather check on each city using a series of successive API calls.\n",
    "* Include a print log of each city as it'sbeing processed (with the city number and city name).\n"
   ]
  },
  {
   "cell_type": "code",
   "execution_count": null,
   "metadata": {},
   "outputs": [],
   "source": []
  },
  {
   "cell_type": "code",
   "execution_count": 15,
   "metadata": {},
   "outputs": [],
   "source": [
    "weather_data.to_csv(\"Weather Data\")"
   ]
  },
  {
   "cell_type": "markdown",
   "metadata": {},
   "source": [
    "### Convert Raw Data to DataFrame\n",
    "* Export the city data into a .csv.\n",
    "* Display the DataFrame"
   ]
  },
  {
   "cell_type": "code",
   "execution_count": 16,
   "metadata": {},
   "outputs": [
    {
     "data": {
      "text/html": [
       "<div>\n",
       "<style scoped>\n",
       "    .dataframe tbody tr th:only-of-type {\n",
       "        vertical-align: middle;\n",
       "    }\n",
       "\n",
       "    .dataframe tbody tr th {\n",
       "        vertical-align: top;\n",
       "    }\n",
       "\n",
       "    .dataframe thead th {\n",
       "        text-align: right;\n",
       "    }\n",
       "</style>\n",
       "<table border=\"1\" class=\"dataframe\">\n",
       "  <thead>\n",
       "    <tr style=\"text-align: right;\">\n",
       "      <th></th>\n",
       "      <th>City</th>\n",
       "      <th>Cloudiness</th>\n",
       "      <th>Country</th>\n",
       "      <th>Date</th>\n",
       "      <th>Humidity</th>\n",
       "      <th>Lat</th>\n",
       "      <th>Lng</th>\n",
       "      <th>Max Temp</th>\n",
       "      <th>Wind Speed</th>\n",
       "    </tr>\n",
       "  </thead>\n",
       "  <tbody>\n",
       "    <tr>\n",
       "      <th>0</th>\n",
       "      <td>Ewa Beach</td>\n",
       "      <td>90</td>\n",
       "      <td>US</td>\n",
       "      <td>1541113620</td>\n",
       "      <td>88</td>\n",
       "      <td>21.32</td>\n",
       "      <td>-158.01</td>\n",
       "      <td>84.92</td>\n",
       "      <td>50.000</td>\n",
       "    </tr>\n",
       "    <tr>\n",
       "      <th>1</th>\n",
       "      <td>Dikson</td>\n",
       "      <td>80</td>\n",
       "      <td>RU</td>\n",
       "      <td>1541114795</td>\n",
       "      <td>100</td>\n",
       "      <td>73.51</td>\n",
       "      <td>80.55</td>\n",
       "      <td>18.30</td>\n",
       "      <td>226.001</td>\n",
       "    </tr>\n",
       "    <tr>\n",
       "      <th>2</th>\n",
       "      <td>Busselton</td>\n",
       "      <td>68</td>\n",
       "      <td>AU</td>\n",
       "      <td>1541114796</td>\n",
       "      <td>100</td>\n",
       "      <td>-33.64</td>\n",
       "      <td>115.35</td>\n",
       "      <td>61.41</td>\n",
       "      <td>233.501</td>\n",
       "    </tr>\n",
       "    <tr>\n",
       "      <th>3</th>\n",
       "      <td>Hilo</td>\n",
       "      <td>75</td>\n",
       "      <td>US</td>\n",
       "      <td>1541112960</td>\n",
       "      <td>69</td>\n",
       "      <td>19.71</td>\n",
       "      <td>-155.08</td>\n",
       "      <td>80.96</td>\n",
       "      <td>90.000</td>\n",
       "    </tr>\n",
       "    <tr>\n",
       "      <th>4</th>\n",
       "      <td>Rikitea</td>\n",
       "      <td>100</td>\n",
       "      <td>PF</td>\n",
       "      <td>1541114796</td>\n",
       "      <td>100</td>\n",
       "      <td>-23.12</td>\n",
       "      <td>-134.97</td>\n",
       "      <td>69.51</td>\n",
       "      <td>119.001</td>\n",
       "    </tr>\n",
       "  </tbody>\n",
       "</table>\n",
       "</div>"
      ],
      "text/plain": [
       "        City  Cloudiness Country        Date  Humidity    Lat     Lng  \\\n",
       "0  Ewa Beach          90      US  1541113620        88  21.32 -158.01   \n",
       "1     Dikson          80      RU  1541114795       100  73.51   80.55   \n",
       "2  Busselton          68      AU  1541114796       100 -33.64  115.35   \n",
       "3       Hilo          75      US  1541112960        69  19.71 -155.08   \n",
       "4    Rikitea         100      PF  1541114796       100 -23.12 -134.97   \n",
       "\n",
       "   Max Temp  Wind Speed  \n",
       "0     84.92      50.000  \n",
       "1     18.30     226.001  \n",
       "2     61.41     233.501  \n",
       "3     80.96      90.000  \n",
       "4     69.51     119.001  "
      ]
     },
     "execution_count": 16,
     "metadata": {},
     "output_type": "execute_result"
    }
   ],
   "source": [
    "weather_data.head()"
   ]
  },
  {
   "cell_type": "code",
   "execution_count": null,
   "metadata": {},
   "outputs": [],
   "source": []
  },
  {
   "cell_type": "markdown",
   "metadata": {},
   "source": [
    "### Plotting the Data\n",
    "* Use proper labeling of the plots using plot titles (including date of analysis) and axes labels.\n",
    "* Save the plotted figures as .pngs."
   ]
  },
  {
   "cell_type": "markdown",
   "metadata": {},
   "source": [
    "#### Latitude vs. Temperature Plot"
   ]
  },
  {
   "cell_type": "code",
   "execution_count": 17,
   "metadata": {},
   "outputs": [
    {
     "data": {
      "text/plain": [
       "<matplotlib.collections.PathCollection at 0x10ffc86d8>"
      ]
     },
     "execution_count": 17,
     "metadata": {},
     "output_type": "execute_result"
    },
    {
     "data": {
      "image/png": "[encoded data removed]",
      "text/plain": [
       "<Figure size 432x288 with 1 Axes>"
      ]
     },
     "metadata": {},
     "output_type": "display_data"
    }
   ],
   "source": [
    "fig1, ax1 = plt.subplots()\n",
    "\n",
    "ax1.set_xlabel(\"Latitude\")\n",
    "ax1.set_ylabel(\"Max Temperature (F)\")\n",
    "ax1.set_title(\"City Latitude vs Max Temperature (10/29/18)\")\n",
    "\n",
    "x1 = weather_data[\"Lat\"]\n",
    "y1 = weather_data[\"Max Temp\"]\n",
    "plt.grid()\n",
    "\n",
    "ax1.scatter(x1, y1, marker=\"o\",edgecolors=\"black\",color=\"steelblue\")"
   ]
  },
  {
   "cell_type": "markdown",
   "metadata": {},
   "source": [
    "#### Latitude vs. Humidity Plot"
   ]
  },
  {
   "cell_type": "code",
   "execution_count": 18,
   "metadata": {},
   "outputs": [
    {
     "data": {
      "text/plain": [
       "<matplotlib.collections.PathCollection at 0x1153054a8>"
      ]
     },
     "execution_count": 18,
     "metadata": {},
     "output_type": "execute_result"
    },
    {
     "data": {
      "image/png": "[encoded data removed]",
      "text/plain": [
       "<Figure size 432x288 with 1 Axes>"
      ]
     },
     "metadata": {},
     "output_type": "display_data"
    }
   ],
   "source": [
    "fig2, ax2 = plt.subplots()\n",
    "\n",
    "ax2.set_xlabel(\"Latitude\")\n",
    "ax2.set_ylabel(\"Humidity (%)\")\n",
    "ax2.set_title(\"City Latitude vs Humidity (10/29/18)\")\n",
    "\n",
    "x2 = weather_data[\"Lat\"]\n",
    "y2 = weather_data[\"Humidity\"]\n",
    "plt.grid()\n",
    "\n",
    "ax2.scatter(x2, y2, marker=\"o\",edgecolors=\"black\",color=\"steelblue\")"
   ]
  },
  {
   "cell_type": "markdown",
   "metadata": {},
   "source": [
    "#### Latitude vs. Cloudiness Plot"
   ]
  },
  {
   "cell_type": "code",
   "execution_count": 19,
   "metadata": {},
   "outputs": [
    {
     "data": {
      "text/plain": [
       "<matplotlib.collections.PathCollection at 0x11536d908>"
      ]
     },
     "execution_count": 19,
     "metadata": {},
     "output_type": "execute_result"
    },
    {
     "data": {
      "image/png": "[encoded data removed]",
      "text/plain": [
       "<Figure size 432x288 with 1 Axes>"
      ]
     },
     "metadata": {},
     "output_type": "display_data"
    }
   ],
   "source": [
    "fig3, ax3 = plt.subplots()\n",
    "\n",
    "ax3.set_xlabel(\"Latitude\")\n",
    "ax3.set_ylabel(\"Cloudiness (%)\")\n",
    "ax3.set_title(\"City Latitude vs Cloudiness (10/29/18)\")\n",
    "\n",
    "x3 = weather_data[\"Lat\"]\n",
    "y3 = weather_data[\"Cloudiness\"]\n",
    "plt.grid()\n",
    "\n",
    "ax3.scatter(x3, y3, marker=\"o\",edgecolors=\"black\",color=\"steelblue\")"
   ]
  },
  {
   "cell_type": "code",
   "execution_count": 22,
   "metadata": {},
   "outputs": [],
   "source": [
    "#print(weather_data[\"Wind Speed\"])"
   ]
  },
  {
   "cell_type": "code",
   "execution_count": 21,
   "metadata": {},
   "outputs": [
    {
     "data": {
      "image/png": "[encoded data removed]",
      "text/plain": [
       "<Figure size 432x288 with 1 Axes>"
      ]
     },
     "metadata": {},
     "output_type": "display_data"
    }
   ],
   "source": [
    "fig4, ax4 = plt.subplots()\n",
    "\n",
    "ax4.set_xlabel(\"Latitude\")\n",
    "ax4.set_ylabel(\"Wind Speed (mph)\")\n",
    "ax4.set_title(\"City Latitude vs Wind Speed (10/29/18)\")\n",
    "\n",
    "x4 = weather_data[\"Lat\"]\n",
    "y4 = weather_data[\"Wind Speed\"]\n",
    "plt.grid()\n",
    "\n",
    "ax4.scatter(x4, y4, marker=\"o\",edgecolors=\"black\",color=\"steelblue\")\n",
    "plt.show()\n"
   ]
  },
  {
   "cell_type": "code",
   "execution_count": null,
   "metadata": {},
   "outputs": [],
   "source": []
  },
  {
   "cell_type": "markdown",
   "metadata": {},
   "source": [
    "#### Latitude vs. Wind Speed Plot"
   ]
  }
 ],
 "metadata": {
  "anaconda-cloud": {},
  "kernelspec": {
   "display_name": "Python 3",
   "language": "python",
   "name": "python3"
  },
  "language_info": {
   "codemirror_mode": {
    "name": "ipython",
    "version": 3
   },
   "file_extension": ".py",
   "mimetype": "text/x-python",
   "name": "python",
   "nbconvert_exporter": "python",
   "pygments_lexer": "ipython3",
   "version": "3.6.5"
  }
 },
 "nbformat": 4,
 "nbformat_minor": 2
}
